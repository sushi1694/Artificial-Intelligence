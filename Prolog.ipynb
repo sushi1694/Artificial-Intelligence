{
 "cells": [
  {
   "cell_type": "code",
   "execution_count": 2,
   "id": "96957c22-ba22-4780-bbad-48c979c45243",
   "metadata": {},
   "outputs": [
    {
     "data": {
      "text/plain": [
       "% Asserting clauses for user:person/2\n"
      ]
     },
     "metadata": {},
     "output_type": "display_data"
    },
    {
     "data": {
      "text/plain": [
       "% Asserting clauses for user:dob/2\n"
      ]
     },
     "metadata": {},
     "output_type": "display_data"
    }
   ],
   "source": [
    "% Facts\n",
    "person(john_doe, '1980-01-15').\n",
    "person(jane_smith, '1992-07-22').\n",
    "person(alice_johnson, '1985-11-30').\n",
    "person(bob_brown, '1990-03-08').\n",
    "\n",
    "% Rule to find a person's DOB by name\n",
    "dob(Name, Dob) :-\n",
    "    person(Name, Dob).\n",
    "\n",
    "% Rule to find a person's name by DOB\n",
    "name(Dob, Name) :-\n",
    "    person(Name, Dob).\n"
   ]
  },
  {
   "cell_type": "code",
   "execution_count": 1,
   "id": "94919bd2-fcff-423f-9182-aa4ff7b6f322",
   "metadata": {},
   "outputs": [
    {
     "data": {
      "text/plain": [
       "% Asserting clauses for user:student/2\n"
      ]
     },
     "metadata": {},
     "output_type": "display_data"
    },
    {
     "data": {
      "text/plain": [
       "% Asserting clauses for user:teacher/2\n"
      ]
     },
     "metadata": {},
     "output_type": "display_data"
    },
    {
     "data": {
      "text/plain": [
       "% Asserting clauses for user:subject/3\n"
      ]
     },
     "metadata": {},
     "output_type": "display_data"
    },
    {
     "data": {
      "text/plain": [
       "% Asserting clauses for user:student_subject/2\n"
      ]
     },
     "metadata": {},
     "output_type": "display_data"
    },
    {
     "data": {
      "text/plain": [
       "% Asserting clauses for user:student_subjects/2\n"
      ]
     },
     "metadata": {},
     "output_type": "display_data"
    },
    {
     "data": {
      "text/plain": [
       "% Asserting clauses for user:students_in_subject/2\n"
      ]
     },
     "metadata": {},
     "output_type": "display_data"
    },
    {
     "data": {
      "text/plain": [
       "% Asserting clauses for user:teacher_of_subject/2\n"
      ]
     },
     "metadata": {},
     "output_type": "display_data"
    }
   ],
   "source": [
    "% Facts\n",
    "% student(Name, ID).\n",
    "student(john_doe, 1).\n",
    "student(jane_smith, 2).\n",
    "student(alice_johnson, 3).\n",
    "student(bob_brown, 4).\n",
    "\n",
    "% teacher(Name, ID).\n",
    "teacher(mr_smith, 101).\n",
    "teacher(ms_jones, 102).\n",
    "teacher(dr_brown, 103).\n",
    "\n",
    "% subject(Code, Title, TeacherID).\n",
    "subject(cs101, 'Introduction to Computer Science', 101).\n",
    "subject(math201, 'Advanced Mathematics', 102).\n",
    "subject(cs102, 'Data Structures', 101).\n",
    "subject(phy101, 'Basic Physics', 103).\n",
    "\n",
    "% student_subject(StudentID, SubjectCode).\n",
    "student_subject(1, cs101).\n",
    "student_subject(1, cs102).\n",
    "student_subject(2, math201).\n",
    "student_subject(3, cs102).\n",
    "student_subject(4, phy101).\n",
    "\n",
    "% Rules\n",
    "% Find the subjects a student is enrolled in\n",
    "student_subjects(StudentID, Subjects) :-\n",
    "    findall(SubjectCode, student_subject(StudentID, SubjectCode), SubjectCodes),\n",
    "    findall(SubjectTitle, (member(Code, SubjectCodes), subject(Code, SubjectTitle, _)), Subjects).\n",
    "\n",
    "% Find the students enrolled in a subject\n",
    "students_in_subject(SubjectCode, Students) :-\n",
    "    findall(StudentID, student_subject(StudentID, SubjectCode), StudentIDs),\n",
    "    findall(StudentName, (member(ID, StudentIDs), student(StudentName, ID)), Students).\n",
    "\n",
    "% Find the teacher of a subject\n",
    "teacher_of_subject(SubjectCode, TeacherName) :-\n",
    "    subject(SubjectCode, _, TeacherID),\n",
    "    teacher(TeacherName, TeacherID).\n",
    "\n"
   ]
  },
  {
   "cell_type": "code",
   "execution_count": 2,
   "id": "e7297121-2146-4c56-a88b-411f7e6567d3",
   "metadata": {},
   "outputs": [
    {
     "data": {
      "text/plain": [
       "% Asserting clauses for user:planet/4\n"
      ]
     },
     "metadata": {},
     "output_type": "display_data"
    },
    {
     "data": {
      "text/plain": [
       "% Asserting clauses for user:planets_of_type/2\n"
      ]
     },
     "metadata": {},
     "output_type": "display_data"
    },
    {
     "data": {
      "text/plain": [
       "% Asserting clauses for user:largest_planet/1\n"
      ]
     },
     "metadata": {},
     "output_type": "display_data"
    },
    {
     "data": {
      "text/plain": [
       "% Asserting clauses for user:distance_from_sun/2\n"
      ]
     },
     "metadata": {},
     "output_type": "display_data"
    },
    {
     "data": {
      "text/plain": [
       "% Asserting clauses for user:closest_to_earth/1\n"
      ]
     },
     "metadata": {},
     "output_type": "display_data"
    }
   ],
   "source": [
    "% Facts\n",
    "% planet(Name, Type, Diameter_km, Distance_from_Sun_km).\n",
    "planet(mercury, terrestrial, 4879, 57_910_000_000).\n",
    "planet(venus, terrestrial, 12104, 108_200_000_000).\n",
    "planet(earth, terrestrial, 12742, 149_600_000_000).\n",
    "planet(mars, terrestrial, 6779, 227_900_000_000).\n",
    "planet(jupiter, gas_giant, 139820, 778_500_000_000).\n",
    "planet(saturn, gas_giant, 116460, 1_429_000_000_000).\n",
    "planet(uranus, ice_giant, 50724, 2_870_000_000_000).\n",
    "planet(neptune, ice_giant, 49244, 4_498_000_000_000).\n",
    "\n",
    "% Rules\n",
    "% Find all planets of a specific type\n",
    "planets_of_type(Type, Planets) :-\n",
    "    findall(Name, planet(Name, Type, _, _), Planets).\n",
    "\n",
    "% Find the planet with the largest diameter\n",
    "largest_planet(Planet) :-\n",
    "    findall(Diameter-Name, planet(Name, _, Diameter, _), Diameters),\n",
    "    max_member(_-Planet, Diameters).\n",
    "\n",
    "% Find the distance of a planet from the Sun\n",
    "distance_from_sun(Planet, Distance) :-\n",
    "    planet(Planet, _, _, Distance).\n",
    "\n",
    "% Find the closest planet to Earth\n",
    "closest_to_earth(Planet) :-\n",
    "    findall(Distance-Planet, planet(Planet, _, _, Distance), Distances),\n",
    "    member(Distance1-earth, Distances),\n",
    "    sort(2, @<, Distances, SortedDistances),\n",
    "    member(_-Planet, SortedDistances).\n",
    "\n"
   ]
  },
  {
   "cell_type": "code",
   "execution_count": 3,
   "id": "31537f4b-89b1-417a-beb9-7408b5c8dd5a",
   "metadata": {},
   "outputs": [
    {
     "data": {
      "text/plain": [
       "% Asserting clauses for user:hanoi/4\n"
      ]
     },
     "metadata": {},
     "output_type": "display_data"
    },
    {
     "data": {
      "text/plain": [
       "% Asserting clauses for user:move/3\n"
      ]
     },
     "metadata": {},
     "output_type": "display_data"
    }
   ],
   "source": [
    "% Solve the Towers of Hanoi problem\n",
    "% hanoi(NumberOfDisks, Source, Target, Auxiliary)\n",
    "\n",
    "hanoi(0, _, _, _) :- !.\n",
    "hanoi(N, Source, Target, Auxiliary) :-\n",
    "    N1 is N - 1,\n",
    "    hanoi(N1, Source, Auxiliary, Target),\n",
    "    move(N, Source, Target),\n",
    "    hanoi(N1, Auxiliary, Target, Source).\n",
    "\n",
    "% Move a disk from Source to Target\n",
    "move(Disk, Source, Target) :-\n",
    "    format('Move disk ~w from ~w to ~w~n', [Disk, Source, Target]).\n",
    "\n"
   ]
  },
  {
   "cell_type": "code",
   "execution_count": 4,
   "id": "3fee3b92-71a3-4871-8302-f6059bb4a44c",
   "metadata": {},
   "outputs": [
    {
     "data": {
      "text/plain": [
       "% Asserting clauses for user:bird/2\n"
      ]
     },
     "metadata": {},
     "output_type": "display_data"
    },
    {
     "data": {
      "text/plain": [
       "% Asserting clauses for user:can_fly/1\n"
      ]
     },
     "metadata": {},
     "output_type": "display_data"
    }
   ],
   "source": [
    "% Facts\n",
    "% bird(Name, CanFly).\n",
    "bird(eagle, yes).\n",
    "bird(parrot, yes).\n",
    "bird(owl, yes).\n",
    "bird(penguin, no).\n",
    "bird(ostrich, no).\n",
    "\n",
    "% Rule to check if a bird can fly\n",
    "can_fly(Bird) :-\n",
    "    bird(Bird, yes),\n",
    "    format('~w can fly.~n', [Bird]).\n",
    "\n",
    "can_fly(Bird) :-\n",
    "    bird(Bird, no),\n",
    "    format('~w cannot fly.~n', [Bird]).\n"
   ]
  },
  {
   "cell_type": "code",
   "execution_count": 5,
   "id": "ebf058de-1e1c-4ba1-a7d4-80162800c9fd",
   "metadata": {},
   "outputs": [
    {
     "data": {
      "text/plain": [
       "% Asserting clauses for user:parent/2\n"
      ]
     },
     "metadata": {},
     "output_type": "display_data"
    },
    {
     "data": {
      "text/plain": [
       "% Asserting clauses for user:sibling/2\n"
      ]
     },
     "metadata": {},
     "output_type": "display_data"
    },
    {
     "data": {
      "text/plain": [
       "% Asserting clauses for user:is_parent/1\n"
      ]
     },
     "metadata": {},
     "output_type": "display_data"
    },
    {
     "data": {
      "text/plain": [
       "% Asserting clauses for user:children/2\n"
      ]
     },
     "metadata": {},
     "output_type": "display_data"
    },
    {
     "data": {
      "text/plain": [
       "% Asserting clauses for user:is_grandparent/1\n"
      ]
     },
     "metadata": {},
     "output_type": "display_data"
    },
    {
     "data": {
      "text/plain": [
       "% Asserting clauses for user:grandchildren/2\n"
      ]
     },
     "metadata": {},
     "output_type": "display_data"
    },
    {
     "data": {
      "text/plain": [
       "% Asserting clauses for user:ancestor/2\n"
      ]
     },
     "metadata": {},
     "output_type": "display_data"
    }
   ],
   "source": [
    "% Facts\n",
    "% parent(Parent, Child).\n",
    "parent(john, mary).\n",
    "parent(john, robert).\n",
    "parent(mary, lisa).\n",
    "parent(mary, james).\n",
    "parent(robert, sophia).\n",
    "parent(robert, william).\n",
    "\n",
    "% Define some rules based on the facts\n",
    "\n",
    "% Define siblings\n",
    "sibling(X, Y) :-\n",
    "    parent(P, X),\n",
    "    parent(P, Y),\n",
    "    X \\= Y.\n",
    "\n",
    "% Define a rule for checking if someone is a parent\n",
    "is_parent(Person) :-\n",
    "    parent(Person, _).\n",
    "\n",
    "% Define a rule for finding all children of a person\n",
    "children(Person, Children) :-\n",
    "    findall(Child, parent(Person, Child), Children).\n",
    "\n",
    "% Define a rule for checking if someone is a grandparent\n",
    "is_grandparent(Grandparent) :-\n",
    "    parent(Grandparent, Child),\n",
    "    parent(Child, _).\n",
    "\n",
    "% Define a rule for finding all grandchildren of a person\n",
    "grandchildren(Grandparent, Grandchildren) :-\n",
    "    findall(Grandchild, (parent(Grandparent, Child), parent(Child, Grandchild)), Grandchildren).\n",
    "\n",
    "% Define a rule for finding all ancestors of a person\n",
    "ancestor(Ancestor, Descendant) :-\n",
    "    parent(Ancestor, Descendant).\n",
    "ancestor(Ancestor, Descendant) :-\n",
    "    parent(Ancestor, Child),\n",
    "    ancestor(Child, Descendant).\n"
   ]
  },
  {
   "cell_type": "code",
   "execution_count": 6,
   "id": "0d05ff7e-a63c-43af-b3a1-b6d1daa3df06",
   "metadata": {},
   "outputs": [
    {
     "data": {
      "text/plain": [
       "% Asserting clauses for user:diet/2\n"
      ]
     },
     "metadata": {},
     "output_type": "display_data"
    },
    {
     "data": {
      "text/plain": [
       "% Asserting clauses for user:recommend_diet/2\n"
      ]
     },
     "metadata": {},
     "output_type": "display_data"
    }
   ],
   "source": [
    "% Facts\n",
    "% diet(Disease, RecommendedDiet).\n",
    "diet(diabetes, 'Low sugar, high fiber, balanced carbs').\n",
    "diet(hypertension, 'Low sodium, rich in potassium, balanced fats').\n",
    "diet(high_cholesterol, 'Low saturated fats, high fiber, lean proteins').\n",
    "diet(heart_disease, 'Low saturated fats, rich in omega-3, high fiber').\n",
    "diet(renal_failure, 'Low protein, low potassium, low sodium').\n",
    "\n",
    "% Define a rule for getting dietary recommendations\n",
    "recommend_diet(Disease, Diet) :-\n",
    "    diet(Disease, Diet).\n",
    "\n",
    "% Example queries\n",
    "% ?- recommend_diet(diabetes, Diet).\n",
    "% Diet = 'Low sugar, high fiber, balanced carbs'.\n"
   ]
  },
  {
   "cell_type": "code",
   "execution_count": 7,
   "id": "432127e8-2594-4e43-b7ba-85ddb4b864af",
   "metadata": {},
   "outputs": [
    {
     "data": {
      "text/plain": [
       "% Asserting clauses for user:initial_state/1\n"
      ]
     },
     "metadata": {},
     "output_type": "display_data"
    },
    {
     "data": {
      "text/plain": [
       "% Asserting clauses for user:action/3\n"
      ]
     },
     "metadata": {},
     "output_type": "display_data"
    },
    {
     "data": {
      "text/plain": [
       "% Asserting clauses for user:goal_state/1\n"
      ]
     },
     "metadata": {},
     "output_type": "display_data"
    },
    {
     "data": {
      "text/plain": [
       "% Asserting clauses for user:solve/2\n"
      ]
     },
     "metadata": {},
     "output_type": "display_data"
    },
    {
     "data": {
      "text/plain": [
       "% Asserting clauses for user:solve_problem/0\n"
      ]
     },
     "metadata": {},
     "output_type": "display_data"
    },
    {
     "data": {
      "text/plain": [
       "% Asserting clauses for user:print_actions/1\n"
      ]
     },
     "metadata": {},
     "output_type": "display_data"
    }
   ],
   "source": [
    "% Define the initial state\n",
    "% state(Monkey, Box, Banana)\n",
    "% Monkey can be at \"floor\" or \"on_box\"\n",
    "% Box can be at \"floor\" or \"under_banana\"\n",
    "% Banana can be \"hanging\" or \"held\"\n",
    "initial_state(state(floor, floor, hanging)).\n",
    "\n",
    "% Define the actions\n",
    "\n",
    "% Action: Monkey climbs onto the box\n",
    "action(climb_on_box, state(floor, floor, hanging), state(on_box, floor, hanging)).\n",
    "\n",
    "% Action: Monkey pushes the box under the banana\n",
    "action(push_box_under_banana, state(Monkey, floor, hanging), state(Monkey, under_banana, hanging)) :-\n",
    "    Monkey \\= on_box.\n",
    "\n",
    "% Action: Monkey reaches for the banana\n",
    "action(reach_for_banana, state(on_box, under_banana, hanging), state(on_box, under_banana, held)).\n",
    "\n",
    "% Define the goal state\n",
    "goal_state(state(_, _, held)).\n",
    "\n",
    "% Define the solution finder\n",
    "solve(State, []) :-\n",
    "    goal_state(State),\n",
    "    write('Goal state reached!'), nl.\n",
    "\n",
    "solve(State, [Action | Actions]) :-\n",
    "    action(Action, State, NextState),\n",
    "    write('Performing action: '), write(Action), nl,\n",
    "    solve(NextState, Actions).\n",
    "\n",
    "% Solve the problem starting from the initial state\n",
    "solve_problem :-\n",
    "    initial_state(InitialState),\n",
    "    solve(InitialState, Actions),\n",
    "    write('Actions to reach the goal: '), nl,\n",
    "    print_actions(Actions).\n",
    "\n",
    "% Helper to print actions\n",
    "print_actions([]).\n",
    "print_actions([Action | Actions]) :-\n",
    "    write(Action), nl,\n",
    "    print_actions(Actions).\n"
   ]
  },
  {
   "cell_type": "code",
   "execution_count": 8,
   "id": "453631a7-548e-4854-b7a9-db9be91cb559",
   "metadata": {},
   "outputs": [
    {
     "data": {
      "text/plain": [
       "% Asserting clauses for user:fruit_color/2\n"
      ]
     },
     "metadata": {},
     "output_type": "display_data"
    },
    {
     "data": {
      "text/plain": [
       "% Asserting clauses for user:color_of_fruit/2\n"
      ]
     },
     "metadata": {},
     "output_type": "display_data"
    }
   ],
   "source": [
    "% Facts about fruits and their colors\n",
    "fruit_color(apple, red).\n",
    "fruit_color(banana, yellow).\n",
    "fruit_color(grapes, purple).\n",
    "fruit_color(orange, orange).\n",
    "fruit_color(strawberry, red).\n",
    "fruit_color(lemon, yellow).\n",
    "fruit_color(lime, green).\n",
    "fruit_color(blueberry, blue).\n",
    "\n",
    "% Rule to find the color of a fruit\n",
    "color_of_fruit(Fruit, Color) :-\n",
    "    fruit_color(Fruit, Color).\n",
    "\n",
    "% Example Queries\n",
    "% ?- color_of_fruit(apple, Color).\n",
    "% Color = red.\n",
    "\n",
    "% ?- color_of_fruit(banana, Color).\n",
    "% Color = yellow.\n"
   ]
  },
  {
   "cell_type": "code",
   "execution_count": 9,
   "id": "1abc8b31-c051-4bc5-951e-c3f224f316a8",
   "metadata": {},
   "outputs": [
    {
     "data": {
      "text/plain": [
       "% Asserting clauses for user:edge/2\n"
      ]
     },
     "metadata": {},
     "output_type": "display_data"
    },
    {
     "data": {
      "text/plain": [
       "% Asserting clauses for user:bfs/3\n"
      ]
     },
     "metadata": {},
     "output_type": "display_data"
    },
    {
     "data": {
      "text/plain": [
       "% Asserting clauses for user:extend/2\n"
      ]
     },
     "metadata": {},
     "output_type": "display_data"
    }
   ],
   "source": [
    "% Define the graph as a set of edges\n",
    "% edge(Node1, Node2) means there's an edge between Node1 and Node2\n",
    "edge(a, b).\n",
    "edge(a, c).\n",
    "edge(b, d).\n",
    "edge(b, e).\n",
    "edge(c, f).\n",
    "edge(c, g).\n",
    "edge(d, h).\n",
    "edge(e, h).\n",
    "edge(f, i).\n",
    "edge(g, i).\n",
    "\n",
    "% BFS algorithm\n",
    "bfs(Start, Goal, Path) :-\n",
    "    bfs([[Start]], Goal, RevPath),\n",
    "    reverse(RevPath, Path).\n",
    "\n",
    "bfs([[Goal | Path] | _], Goal, [Goal | Path]).\n",
    "bfs([Path | Paths], Goal, Result) :-\n",
    "    extend(Path, NewPaths),\n",
    "    append(Paths, NewPaths, UpdatedPaths),\n",
    "    bfs(UpdatedPaths, Goal, Result).\n",
    "\n",
    "% Extend a given path by adding its neighbors\n",
    "extend(Path, NewPaths) :-\n",
    "    Path = [Node | _],\n",
    "    findall([Neighbor, Node | Path],\n",
    "            (edge(Node, Neighbor), \\+ member(Neighbor, Path)),\n",
    "            NewPaths).\n",
    "\n",
    "% Example query: Find the path from node 'a' to node 'h'\n",
    "% ?- bfs(a, h, Path).\n"
   ]
  },
  {
   "cell_type": "code",
   "execution_count": 10,
   "id": "5d3e067e-d0fc-4cac-b400-c03c3afed9ed",
   "metadata": {},
   "outputs": [
    {
     "data": {
      "text/plain": [
       "% Asserting clauses for user:symptom/2\n"
      ]
     },
     "metadata": {},
     "output_type": "display_data"
    },
    {
     "data": {
      "text/plain": [
       "% Asserting clauses for user:diagnose/1\n"
      ]
     },
     "metadata": {},
     "output_type": "display_data"
    },
    {
     "data": {
      "text/plain": [
       "% Asserting clauses for user:check_symptoms/2\n"
      ]
     },
     "metadata": {},
     "output_type": "display_data"
    },
    {
     "data": {
      "text/plain": [
       "% Asserting clauses for user:possible_diagnoses/2\n"
      ]
     },
     "metadata": {},
     "output_type": "display_data"
    }
   ],
   "source": [
    "% Facts: Symptoms associated with diseases\n",
    "symptom(flu, fever).\n",
    "symptom(flu, cough).\n",
    "symptom(flu, headache).\n",
    "symptom(cold, runny_nose).\n",
    "symptom(cold, sore_throat).\n",
    "symptom(cold, cough).\n",
    "symptom(covid, fever).\n",
    "symptom(covid, cough).\n",
    "symptom(covid, loss_of_taste).\n",
    "symptom(covid, shortness_of_breath).\n",
    "symptom(allergy, runny_nose).\n",
    "symptom(allergy, itchy_eyes).\n",
    "\n",
    "% Rule to diagnose based on symptoms\n",
    "diagnose(Disease) :-\n",
    "    findall(Symptom, symptom(Disease, Symptom), Symptoms),\n",
    "    check_symptoms(Symptoms, Disease).\n",
    "\n",
    "check_symptoms([], _).\n",
    "check_symptoms([Symptom | Rest], Disease) :-\n",
    "    member(Symptom, [fever, cough, headache, runny_nose, sore_throat, loss_of_taste, shortness_of_breath, itchy_eyes]),\n",
    "    symptom(Disease, Symptom),\n",
    "    check_symptoms(Rest, Disease).\n",
    "\n",
    "% Rule to get possible diagnoses for a list of symptoms\n",
    "possible_diagnoses(Symptoms, Diseases) :-\n",
    "    findall(Disease, (symptom(Disease, Symptom), member(Symptom, Symptoms)), AllDiseases),\n",
    "    list_to_set(AllDiseases, Diseases).\n",
    "\n",
    "% Example Query\n",
    "% ?- possible_diagnoses([fever, cough, loss_of_taste], Diseases).\n"
   ]
  },
  {
   "cell_type": "code",
   "execution_count": 11,
   "id": "d54a62c2-ac93-414f-8774-f9f7e9d62189",
   "metadata": {},
   "outputs": [
    {
     "data": {
      "text/plain": [
       "% Asserting clauses for user:has_symptom/2\n"
      ]
     },
     "metadata": {},
     "output_type": "display_data"
    },
    {
     "data": {
      "text/plain": [
       "% Asserting clauses for user:disease/1\n"
      ]
     },
     "metadata": {},
     "output_type": "display_data"
    },
    {
     "data": {
      "text/plain": [
       "% Asserting clauses for user:forward_chaining/2\n"
      ]
     },
     "metadata": {},
     "output_type": "display_data"
    }
   ],
   "source": [
    "% Facts\n",
    "has_symptom(john, fever).\n",
    "has_symptom(john, cough).\n",
    "has_symptom(john, headache).\n",
    "\n",
    "% Rules\n",
    "% If a person has fever and cough, they might have the flu\n",
    "disease(flu) :-\n",
    "    has_symptom(_, fever),\n",
    "    has_symptom(_, cough).\n",
    "\n",
    "% If a person has a runny nose and sore throat, they might have a cold\n",
    "disease(cold) :-\n",
    "    has_symptom(_, runny_nose),\n",
    "    has_symptom(_, sore_throat).\n",
    "\n",
    "% If a person has fever, cough, and loss of taste, they might have COVID-19\n",
    "disease(covid) :-\n",
    "    has_symptom(_, fever),\n",
    "    has_symptom(_, cough),\n",
    "    has_symptom(_, loss_of_taste).\n",
    "\n",
    "% Forward chaining algorithm to determine possible diseases for a person\n",
    "forward_chaining(Person, Diseases) :-\n",
    "    findall(Disease, (disease(Disease), has_symptom(Person, _)), AllDiseases),\n",
    "    list_to_set(AllDiseases, Diseases).\n",
    "\n",
    "% Example query to determine diseases for John\n",
    "% ?- forward_chaining(john, Diseases).\n"
   ]
  },
  {
   "cell_type": "code",
   "execution_count": 12,
   "id": "e50a2d32-2e57-4564-9e7b-a0af6f50ef10",
   "metadata": {},
   "outputs": [
    {
     "data": {
      "text/html": [
       "\n",
       "            <style>\n",
       "            details  {\n",
       "              font-family: Menlo, Consolas, 'DejaVu Sans Mono', monospace; font-size: 13px;\n",
       "            }\n",
       "\n",
       "            details > summary {\n",
       "              cursor: pointer;\n",
       "            }\n",
       "            </style>\n",
       "            <details><summary>Previously defined clauses of user:has_symptom/2 were retracted (click to expand)</summary><pre>:- dynamic has_symptom/2.\n",
       "\n",
       "has_symptom(john, fever).\n",
       "has_symptom(john, cough).\n",
       "has_symptom(john, headache).\n",
       "</pre></details>"
      ],
      "text/plain": [
       "Previously defined clauses of user:has_symptom/2 were retracted:\n",
       ":- dynamic has_symptom/2.\n",
       "\n",
       "has_symptom(john, fever).\n",
       "has_symptom(john, cough).\n",
       "has_symptom(john, headache).\n"
      ]
     },
     "metadata": {
      "application/json": {}
     },
     "output_type": "display_data"
    },
    {
     "data": {
      "text/plain": [
       "% Asserting clauses for user:has_symptom/2\n"
      ]
     },
     "metadata": {},
     "output_type": "display_data"
    },
    {
     "data": {
      "text/html": [
       "\n",
       "            <style>\n",
       "            details  {\n",
       "              font-family: Menlo, Consolas, 'DejaVu Sans Mono', monospace; font-size: 13px;\n",
       "            }\n",
       "\n",
       "            details > summary {\n",
       "              cursor: pointer;\n",
       "            }\n",
       "            </style>\n",
       "            <details><summary>Previously defined clauses of user:disease/1 were retracted (click to expand)</summary><pre>:- dynamic disease/1.\n",
       "\n",
       "disease(flu) :-\n",
       "    has_symptom(_, fever),\n",
       "    has_symptom(_, cough).\n",
       "disease(cold) :-\n",
       "    has_symptom(_, runny_nose),\n",
       "    has_symptom(_, sore_throat).\n",
       "disease(covid) :-\n",
       "    has_symptom(_, fever),\n",
       "    has_symptom(_, cough),\n",
       "    has_symptom(_, loss_of_taste).\n",
       "</pre></details>"
      ],
      "text/plain": [
       "Previously defined clauses of user:disease/1 were retracted:\n",
       ":- dynamic disease/1.\n",
       "\n",
       "disease(flu) :-\n",
       "    has_symptom(_, fever),\n",
       "    has_symptom(_, cough).\n",
       "disease(cold) :-\n",
       "    has_symptom(_, runny_nose),\n",
       "    has_symptom(_, sore_throat).\n",
       "disease(covid) :-\n",
       "    has_symptom(_, fever),\n",
       "    has_symptom(_, cough),\n",
       "    has_symptom(_, loss_of_taste).\n"
      ]
     },
     "metadata": {
      "application/json": {}
     },
     "output_type": "display_data"
    },
    {
     "data": {
      "text/plain": [
       "% Asserting clauses for user:disease/1\n"
      ]
     },
     "metadata": {},
     "output_type": "display_data"
    },
    {
     "data": {
      "text/plain": [
       "% Asserting clauses for user:check_disease/2\n"
      ]
     },
     "metadata": {},
     "output_type": "display_data"
    },
    {
     "data": {
      "text/plain": [
       "% Asserting clauses for user:verify_disease/2\n"
      ]
     },
     "metadata": {},
     "output_type": "display_data"
    },
    {
     "data": {
      "text/html": [
       "\n",
       "            <style>\n",
       "            details  {\n",
       "              font-family: Menlo, Consolas, 'DejaVu Sans Mono', monospace; font-size: 13px;\n",
       "            }\n",
       "\n",
       "            details > summary {\n",
       "              cursor: pointer;\n",
       "            }\n",
       "            </style>\n",
       "            <details><summary>Previously defined clauses of user:check_symptoms/2 were retracted (click to expand)</summary><pre>:- dynamic check_symptoms/2.\n",
       "\n",
       "check_symptoms([], _).\n",
       "check_symptoms([A|B], C) :-\n",
       "    member(A,\n",
       "           [ fever,\n",
       "             cough,\n",
       "             headache,\n",
       "             runny_nose,\n",
       "             sore_throat,\n",
       "             loss_of_taste,\n",
       "             shortness_of_breath,\n",
       "             itchy_eyes\n",
       "           ]),\n",
       "    symptom(C, A),\n",
       "    check_symptoms(B, C).\n",
       "</pre></details>"
      ],
      "text/plain": [
       "Previously defined clauses of user:check_symptoms/2 were retracted:\n",
       ":- dynamic check_symptoms/2.\n",
       "\n",
       "check_symptoms([], _).\n",
       "check_symptoms([A|B], C) :-\n",
       "    member(A,\n",
       "           [ fever,\n",
       "             cough,\n",
       "             headache,\n",
       "             runny_nose,\n",
       "             sore_throat,\n",
       "             loss_of_taste,\n",
       "             shortness_of_breath,\n",
       "             itchy_eyes\n",
       "           ]),\n",
       "    symptom(C, A),\n",
       "    check_symptoms(B, C).\n"
      ]
     },
     "metadata": {
      "application/json": {}
     },
     "output_type": "display_data"
    },
    {
     "data": {
      "text/plain": [
       "% Asserting clauses for user:check_symptoms/2\n"
      ]
     },
     "metadata": {},
     "output_type": "display_data"
    },
    {
     "data": {
      "text/plain": [
       "% Asserting clauses for user:check_person_symptoms/2\n"
      ]
     },
     "metadata": {},
     "output_type": "display_data"
    }
   ],
   "source": [
    "% Facts\n",
    "has_symptom(john, fever).\n",
    "has_symptom(john, cough).\n",
    "has_symptom(john, headache).\n",
    "\n",
    "% Rules\n",
    "% If a person has fever and cough, they might have the flu\n",
    "disease(flu) :-\n",
    "    has_symptom(_, fever),\n",
    "    has_symptom(_, cough).\n",
    "\n",
    "% If a person has a runny nose and sore throat, they might have a cold\n",
    "disease(cold) :-\n",
    "    has_symptom(_, runny_nose),\n",
    "    has_symptom(_, sore_throat).\n",
    "\n",
    "% If a person has fever, cough, and loss of taste, they might have COVID-19\n",
    "disease(covid) :-\n",
    "    has_symptom(_, fever),\n",
    "    has_symptom(_, cough),\n",
    "    has_symptom(_, loss_of_taste).\n",
    "\n",
    "% Backward chaining algorithm to check if a person has a specific disease\n",
    "check_disease(Person, Disease) :-\n",
    "    disease(Disease),\n",
    "    \\+ (disease(Disease), \\+ verify_disease(Disease, Person)).\n",
    "\n",
    "% Verify if the person meets the conditions for a specific disease\n",
    "verify_disease(Disease, Person) :-\n",
    "    disease(Disease),\n",
    "    check_symptoms(Disease, Person).\n",
    "\n",
    "% Check if the person has the symptoms required for a specific disease\n",
    "check_symptoms(Disease, Person) :-\n",
    "    findall(Symptom, symptom(Disease, Symptom), Symptoms),\n",
    "    check_person_symptoms(Symptoms, Person).\n",
    "\n",
    "% Ensure the person has all required symptoms\n",
    "check_person_symptoms([], _).\n",
    "check_person_symptoms([Symptom | Rest], Person) :-\n",
    "    has_symptom(Person, Symptom),\n",
    "    check_person_symptoms(Rest, Person).\n",
    "\n",
    "% Example query to check if John has a specific disease\n",
    "% ?- check_disease(john, flu).\n"
   ]
  },
  {
   "cell_type": "code",
   "execution_count": null,
   "id": "4575ab6b-cbc4-4b83-bb40-ab6866d8f8f2",
   "metadata": {},
   "outputs": [
    {
     "data": {
      "text/html": [
       "\n",
       "            <style>\n",
       "            details  {\n",
       "              font-family: Menlo, Consolas, 'DejaVu Sans Mono', monospace; font-size: 13px;\n",
       "            }\n",
       "\n",
       "            details > summary {\n",
       "              cursor: pointer;\n",
       "            }\n",
       "            </style>\n",
       "            <details><summary>Previously defined clauses of user:parent/2 were retracted (click to expand)</summary><pre>:- dynamic parent/2.\n",
       "\n",
       "parent(john, mary).\n",
       "parent(mary, sam).\n",
       "</pre></details>"
      ],
      "text/plain": [
       "Previously defined clauses of user:parent/2 were retracted:\n",
       ":- dynamic parent/2.\n",
       "\n",
       "parent(john, mary).\n",
       "parent(mary, sam).\n"
      ]
     },
     "metadata": {
      "application/json": {}
     },
     "output_type": "display_data"
    },
    {
     "data": {
      "text/plain": [
       "% Asserting clauses for user:parent/2\n"
      ]
     },
     "metadata": {},
     "output_type": "display_data"
    },
    {
     "data": {
      "text/html": [
       "\n",
       "            <style>\n",
       "            details  {\n",
       "              font-family: Menlo, Consolas, 'DejaVu Sans Mono', monospace; font-size: 13px;\n",
       "            }\n",
       "\n",
       "            details > summary {\n",
       "              cursor: pointer;\n",
       "            }\n",
       "            </style>\n",
       "            <details><summary>Previously defined clauses of user:ancestor/2 were retracted (click to expand)</summary><pre>:- dynamic ancestor/2.\n",
       "\n",
       "ancestor(A, B) :-\n",
       "    parent(A, B).\n",
       "ancestor(A, B) :-\n",
       "    parent(A, C),\n",
       "    ancestor(C, B).\n",
       "</pre></details>"
      ],
      "text/plain": [
       "Previously defined clauses of user:ancestor/2 were retracted:\n",
       ":- dynamic ancestor/2.\n",
       "\n",
       "ancestor(A, B) :-\n",
       "    parent(A, B).\n",
       "ancestor(A, B) :-\n",
       "    parent(A, C),\n",
       "    ancestor(C, B).\n"
      ]
     },
     "metadata": {
      "application/json": {}
     },
     "output_type": "display_data"
    },
    {
     "data": {
      "text/plain": [
       "% Asserting clauses for user:ancestor/2\n"
      ]
     },
     "metadata": {},
     "output_type": "display_data"
    },
    {
     "data": {
      "text/plain": [
       "\u001b[1;31mERROR: catch/3: Unknown procedure: toplevel_variables:expand_query/4\n"
      ]
     },
     "metadata": {},
     "output_type": "display_data"
    }
   ],
   "source": [
    "% Define some facts\n",
    "parent(john, mary).\n",
    "parent(mary, sam).\n",
    "\n",
    "% Define a rule\n",
    "ancestor(X, Y) :-\n",
    "    parent(X, Y).\n",
    "ancestor(X, Y) :-\n",
    "    parent(X, Z),\n",
    "    ancestor(Z, Y).\n",
    "\n",
    "% Query to find ancestors\n",
    "?- ancestor(john, sam).\n"
   ]
  },
  {
   "cell_type": "code",
   "execution_count": 16,
   "id": "8d00f7ee-1eea-4dc1-8863-e73857168a88",
   "metadata": {},
   "outputs": [
    {
     "data": {
      "text/plain": [
       "% Asserting clauses for user:vowel/1\n"
      ]
     },
     "metadata": {},
     "output_type": "display_data"
    },
    {
     "data": {
      "text/plain": [
       "% Asserting clauses for user:count_vowels/2\n"
      ]
     },
     "metadata": {},
     "output_type": "display_data"
    },
    {
     "data": {
      "text/plain": [
       "% Asserting clauses for user:count_vowels_in_list/3\n"
      ]
     },
     "metadata": {},
     "output_type": "display_data"
    },
    {
     "data": {
      "text/plain": [
       "% Asserting clauses for user:count_vowels/3\n"
      ]
     },
     "metadata": {},
     "output_type": "display_data"
    }
   ],
   "source": [
    "% Define the vowels\n",
    "vowel(a).\n",
    "vowel(e).\n",
    "vowel(i).\n",
    "vowel(o).\n",
    "vowel(u).\n",
    "\n",
    "% Predicate to count vowels in a string\n",
    "count_vowels(String, Count) :-\n",
    "    atom_chars(String, CharList),    % Convert the string to a list of characters\n",
    "    count_vowels_in_list(CharList, 0, Count).  % Count vowels in the list\n",
    "\n",
    "% Base case: when the list is empty, the count is the accumulated count\n",
    "count_vowels_in_list([], Acc, Acc).\n",
    "\n",
    "% Recursive case: if the head of the list is a vowel, increment the count\n",
    "count_vowels_in_list([Head | Tail], Acc, Count) :-\n",
    "    (   vowel(Head)\n",
    "    ->  NewAcc is Acc + 1\n",
    "    ;   NewAcc is Acc\n",
    "    ),\n",
    "    count_vowels_in_list(Tail, NewAcc, Count).\n",
    "\n",
    "% Helper predicate to start counting from 0\n",
    "count_vowels(String, Count) :-\n",
    "    count_vowels(String, 0, Count).\n",
    "\n",
    "count_vowels(String, Acc, Count) :-\n",
    "    atom_chars(String, CharList),\n",
    "    count_vowels_in_list(CharList, Acc, Count).\n"
   ]
  },
  {
   "cell_type": "code",
   "execution_count": null,
   "id": "2b604537-b32b-4090-892b-04e229a25ef9",
   "metadata": {},
   "outputs": [],
   "source": []
  }
 ],
 "metadata": {
  "kernelspec": {
   "display_name": "Prolog",
   "language": "prolog",
   "name": "prolog_kernel"
  },
  "language_info": {
   "codemirror_mode": "prolog",
   "file_extension": ".pl",
   "mimetype": "text/x-prolog",
   "name": "Prolog"
  }
 },
 "nbformat": 4,
 "nbformat_minor": 5
}
